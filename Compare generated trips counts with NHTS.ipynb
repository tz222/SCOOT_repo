{
 "cells": [
  {
   "cell_type": "code",
   "execution_count": 15,
   "metadata": {},
   "outputs": [],
   "source": [
    "import pandas as pd\n",
    "import numpy as np\n",
    "import pyreadr # used for reading in rds data\n",
    "import os\n",
    "import re"
   ]
  },
  {
   "cell_type": "code",
   "execution_count": 9,
   "metadata": {},
   "outputs": [],
   "source": [
    "\n",
    "# Get the list of all files and directories\n",
    "path = '/Users/tianqizou/Documents/DOE/SCOOT/ApplyModel/SmallSample/scootApply/final_population'\n",
    "dir_list = os.listdir(path)\n",
    "files = [i for i in os.listdir(path) if not i.startswith(\".\")]\n",
    "#files\n"
   ]
  },
  {
   "cell_type": "code",
   "execution_count": 13,
   "metadata": {},
   "outputs": [
    {
     "name": "stdout",
     "output_type": "stream",
     "text": [
      "12060\n",
      "12420\n",
      "12580\n",
      "13820\n",
      "14460\n",
      "15380\n",
      "16740\n",
      "16980\n",
      "17140\n",
      "17460\n",
      "18140\n",
      "19100\n",
      "19740\n",
      "19820\n",
      "24340\n",
      "25540\n",
      "26420\n",
      "26900\n",
      "27260\n",
      "28140\n",
      "29820\n",
      "31080\n",
      "31140\n",
      "32820\n",
      "33100\n",
      "33340\n",
      "33460\n",
      "34980\n",
      "35380\n",
      "35620\n",
      "36420\n",
      "36740\n",
      "37980\n",
      "38060\n",
      "38300\n",
      "38900\n",
      "39300\n",
      "39580\n",
      "40060\n",
      "40140\n",
      "40380\n",
      "40900\n",
      "41180\n",
      "41620\n",
      "41700\n",
      "41740\n",
      "41860\n",
      "41940\n",
      "42660\n",
      "45300\n",
      "47260\n",
      "47900\n",
      "[676277, 241370, 370762, 126147, 644171, 127204, 297512, 1091465, 266441, 252400, 238563, 826036, 304442, 494692, 131475, 189304, 775749, 227894, 173498, 245979, 241733, 1586967, 140488, 150143, 686363, 180738, 408513, 209653, 137797, 2177904, 157511, 265403, 691332, 541472, 262338, 277220, 132070, 112145, 144227, 443129, 117571, 276745, 316038, 96183, 276112, 365387, 573769, 169911, 386068, 334713, 199359, 659790]\n"
     ]
    }
   ],
   "source": [
    "# load nhts total trip count by MSA\n",
    "nhts_total_trip_msa = pd.read_csv(\"/Users/tianqizou/Documents/DOE/SCOOT/ApplyModel/SmallSample/scootApply/nhts_total_trip_msa.csv\")\n",
    "nhts_total_trip_msa=nhts_total_trip_msa[nhts_total_trip_msa['HH_CBSA']!='XXXXX']\n",
    "nhts_total_trip_msa['HH_CBSA']=pd.to_numeric(nhts_total_trip_msa['HH_CBSA'])\n",
    "nhts_total_trip_msa\n",
    "\n",
    "# read in generated tours and count total trip by MSA (number of rows in each generated tour file)\n",
    "rds_len = []\n",
    "rdsall = pd.DataFrame()\n",
    "for msa in nhts_total_trip_msa['HH_CBSA']:\n",
    "    #cbsa_cali.append(int(re.findall(rds)[0]))\n",
    "    temp = pyreadr.read_r(path+'/'+'generated_tracts_'+str(msa)+'.rds')\n",
    "    tempdf = temp[None]\n",
    "    rdsall = rdsall.append([tempdf])\n",
    "    rds_len.append(tempdf.shape[0])\n",
    "    #print(msa)\n",
    "print(rds_len)"
   ]
  },
  {
   "cell_type": "code",
   "execution_count": 25,
   "metadata": {},
   "outputs": [
    {
     "data": {
      "text/plain": [
       "Text(0, 0.5, 'Frequency')"
      ]
     },
     "execution_count": 25,
     "metadata": {},
     "output_type": "execute_result"
    },
    {
     "data": {
      "image/png": "[encoded data removed]",
      "text/plain": [
       "<Figure size 432x288 with 1 Axes>"
      ]
     },
     "metadata": {
      "needs_background": "light"
     },
     "output_type": "display_data"
    }
   ],
   "source": [
    "\n",
    "#cbsa_cali = [int(re.findall(r'\\d+',msa)[0]) for msa in files ]\n",
    "\n",
    "tour_cnt = pd.DataFrame({'cbsa':nhts_total_trip_msa['HH_CBSA'], 'cnt':rds_len})\n",
    "tour_cnt=tour_cnt.merge(nhts_total_trip_msa, how='left', left_on = 'cbsa',right_on='HH_CBSA')\n",
    "tour_cnt=tour_cnt.dropna()\n",
    "tour_cnt['cnt_factor'] = tour_cnt['cnt_x']/tour_cnt['cnt_y']\n",
    "tour_cnt = tour_cnt.rename(columns = {'cnt_x':'generated_trip_count', 'cnt_y':'nhts_trip_count'})\n",
    "\n",
    "\n",
    "tour_cnt['cnt_factor'].describe()\n",
    "x=tour_cnt['cnt_factor'].hist()\n",
    "\n",
    "x.set_title(\"\")\n",
    "\n",
    "# Set x-axis label\n",
    "x.set_xlabel(\"Factor\", labelpad=20, weight='bold', size=12)\n",
    "\n",
    "# Set y-axis label\n",
    "x.set_ylabel(\"Frequency\", labelpad=20, weight='bold', size=12)"
   ]
  },
  {
   "cell_type": "code",
   "execution_count": 16,
   "metadata": {},
   "outputs": [],
   "source": []
  },
  {
   "cell_type": "code",
   "execution_count": null,
   "metadata": {},
   "outputs": [],
   "source": []
  },
  {
   "cell_type": "code",
   "execution_count": null,
   "metadata": {},
   "outputs": [],
   "source": []
  }
 ],
 "metadata": {
  "kernelspec": {
   "display_name": "Python 3.7.5 64-bit ('cse163': conda)",
   "language": "python",
   "name": "python37564bitcse163condacb4ddf119e8d41d6b9dea197cd75bdf6"
  },
  "language_info": {
   "codemirror_mode": {
    "name": "ipython",
    "version": 3
   },
   "file_extension": ".py",
   "mimetype": "text/x-python",
   "name": "python",
   "nbconvert_exporter": "python",
   "pygments_lexer": "ipython3",
   "version": "3.7.5"
  }
 },
 "nbformat": 4,
 "nbformat_minor": 2
}
